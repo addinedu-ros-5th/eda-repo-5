{
 "cells": [
  {
   "cell_type": "code",
   "execution_count": 28,
   "metadata": {},
   "outputs": [],
   "source": [
    "import requests\n",
    "from bs4 import BeautifulSoup\n",
    "import pandas as pd\n",
    "from datetime import datetime\n",
    "from urllib.parse import quote_plus"
   ]
  },
  {
   "cell_type": "code",
   "execution_count": 30,
   "metadata": {},
   "outputs": [
    {
     "name": "stdout",
     "output_type": "stream",
     "text": [
      "                                       title  \\\n",
      "0                  \"위기오면 실력차 날것… 수익성 제고 승부수\"   \n",
      "1               [2008 신년특집] 금융강국의 길 지주사에 달렸다   \n",
      "2                  2008년 ITㆍ금융ㆍ건설 '新트로이카' 뜬다   \n",
      "3        [2008 대예측-경제분야] 경제 리더십 발휘 성장엔진 재가동을   \n",
      "4         <일문일답>權부총리 \"한국경제 실적, 국민인식과 단절 아쉽다\"   \n",
      "..                                       ...   \n",
      "160                美 금융권 '감원한파'…베어스턴스 8천명 감원   \n",
      "161  [한상춘의 '국제경제 읽기'] 美모기지 사태 '바닥론'과 新유동성 장세   \n",
      "162                       미국경제 ‘장기 침체’ 주장 근거   \n",
      "163     잭 웰치 부부의 성공 어드바이스 <50> 경제 위기에서 살아 남기   \n",
      "164                   李대통령 \"물가안정이 7%성장보다 시급\"   \n",
      "\n",
      "                                                   url  \n",
      "0    http://www.moneytoday.co.kr/view/mtview.php?ty...  \n",
      "1    http://www.fnnews.com/view?ra=Sent0701m_01A&co...  \n",
      "2    http://www.hankyung.com/news/app/newsview.php?...  \n",
      "3    http://www.heraldbiz.com/SITE/data/html_dir/20...  \n",
      "4    https://n.news.naver.com/mnews/article/003/000...  \n",
      "..                                                 ...  \n",
      "160  http://seoulfn.com/sub_read.html?uid=43608§ion...  \n",
      "161  http://www.hankyung.com/news/app/newsview.php?...  \n",
      "162  http://news.mk.co.kr/news_forward.php?no=16187...  \n",
      "163             http://sunday.joins.com/archives/25155  \n",
      "164  http://www.pressian.com/scripts/section/articl...  \n",
      "\n",
      "[165 rows x 2 columns]\n"
     ]
    }
   ],
   "source": [
    "def crawl_naver_news(keyword, start_date, end_date):\n",
    "    news_data = []\n",
    "    base_url = \"https://search.naver.com/search.naver\"\n",
    "    date_format = \"%Y.%m.%d\"\n",
    "    \n",
    "    while start_date <= end_date:\n",
    "        params = {\n",
    "            'where': 'news',\n",
    "            'query': keyword,\n",
    "            'sm': 'tab_opt',\n",
    "            'sort': '0',\n",
    "            'photo': '0',\n",
    "            'field': '0',\n",
    "            'reporter_article': '',\n",
    "            'pd': '3',\n",
    "            'ds': start_date.strftime(date_format),\n",
    "            'de': start_date.strftime(date_format),\n",
    "            'docid': '',\n",
    "            'nso': 'so:r,p:from{}to{},a:all'.format(start_date.strftime(\"%Y%m%d\"), start_date.strftime(\"%Y%m%d\")),\n",
    "            'start': 1,\n",
    "        }\n",
    "        \n",
    "        response = requests.get(base_url, params=params)\n",
    "        soup = BeautifulSoup(response.text, 'html.parser')\n",
    "        news_items = soup.select('a.news_tit')\n",
    "        \n",
    "        for item in news_items:\n",
    "            title = item.get('title')\n",
    "            url = item.get('href')\n",
    "            news_data.append({'title': title, 'url': url})\n",
    "        \n",
    "        # 한 페이지에 모든 결과가 나올 것으로 예상되지만, 필요에 따라 페이지네이션을 처리하는 로직 추가 가능\n",
    "        start_date += pd.Timedelta(days=1)  # 다음 날짜로 이동\n",
    "\n",
    "    return pd.DataFrame(news_data)\n",
    "\n",
    "keyword = \"경제, 금융, 위기\"\n",
    "start_date = pd.to_datetime(\"2008-01-01\")\n",
    "end_date = pd.to_datetime(\"2008-12-31\")\n",
    "df_news = crawl_naver_news(keyword, start_date, end_date)\n",
    "print(df_news)"
   ]
  },
  {
   "cell_type": "code",
   "execution_count": 27,
   "metadata": {},
   "outputs": [],
   "source": [
    "# 데이터프레임을 CSV 파일로 저장\n",
    "df_news.to_csv('/home/verlo/dev_ws/EDA/data/naver_news.csv', index=False, encoding='utf-8-sig')"
   ]
  }
 ],
 "metadata": {
  "kernelspec": {
   "display_name": "eda_venv",
   "language": "python",
   "name": "python3"
  },
  "language_info": {
   "codemirror_mode": {
    "name": "ipython",
    "version": 3
   },
   "file_extension": ".py",
   "mimetype": "text/x-python",
   "name": "python",
   "nbconvert_exporter": "python",
   "pygments_lexer": "ipython3",
   "version": "3.10.12"
  }
 },
 "nbformat": 4,
 "nbformat_minor": 2
}
